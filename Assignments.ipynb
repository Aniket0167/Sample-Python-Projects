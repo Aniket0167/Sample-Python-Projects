{
  "nbformat": 4,
  "nbformat_minor": 0,
  "metadata": {
    "colab": {
      "provenance": [],
      "authorship_tag": "ABX9TyNPApRvmp4dwIt9ee+QzVgF",
      "include_colab_link": true
    },
    "kernelspec": {
      "name": "python3",
      "display_name": "Python 3"
    },
    "language_info": {
      "name": "python"
    }
  },
  "cells": [
    {
      "cell_type": "markdown",
      "metadata": {
        "id": "view-in-github",
        "colab_type": "text"
      },
      "source": [
        "<a href=\"https://colab.research.google.com/github/Aniket0167/Sample-Python-Projects/blob/main/Assignments.ipynb\" target=\"_parent\"><img src=\"https://colab.research.google.com/assets/colab-badge.svg\" alt=\"Open In Colab\"/></a>"
      ]
    },
    {
      "cell_type": "code",
      "source": [
        "# Basic Calculator\n",
        "# Function to add two numbers\n",
        "def add(x , y):\n",
        "  return x + y\n",
        "\n",
        "# Function to substract two numbers\n",
        "def subtract(x , y):\n",
        "  return x - y\n",
        "\n",
        "# Function to multiply two numbers\n",
        "def multiply(x , y):\n",
        "  return x * y\n",
        "\n",
        "# Function to divide two numbers\n",
        "def divide(x , y):\n",
        "  return x / y\n",
        "\n",
        "print('welcome to cdwith Ani')\n",
        "print('Select Operation : ')\n",
        "print(\"1. Add\")\n",
        "print(\"2. Substract\")\n",
        "print(\"3. Multiply\")\n",
        "print(\"4. Divide\")\n",
        "\n",
        "choise = input(\"Enter a choise(1/2/3/4) : \")\n",
        "num1 = float(input(\"Enter first number : \"))\n",
        "num2 = float(input(\"Enter second number : \"))\n",
        "if choise == '1' :\n",
        "  print(\"Result : \",add(num1 , num2))\n",
        "elif choise == '2' :\n",
        "  print(\"Result : \",subtract(num1 , num2))\n",
        "elif choise == '3' :\n",
        "  print(\"Result : \",multiply(num1 , num2))\n",
        "elif choise == '4' :\n",
        "  print(\"Result : \",divide(num1 , num2))\n",
        "else :\n",
        "  print(\"Invalid Input\")"
      ],
      "metadata": {
        "colab": {
          "base_uri": "https://localhost:8080/"
        },
        "id": "4sxTEhCcF0uG",
        "outputId": "40a61fe4-8ca3-4ce6-ceea-ae32c73f1660"
      },
      "execution_count": null,
      "outputs": [
        {
          "output_type": "stream",
          "name": "stdout",
          "text": [
            "welcome to cdwith Ani\n",
            "Select Operation : \n",
            "1. Add\n",
            "2. Substract\n",
            "3. Multiply\n",
            "4. Divide\n",
            "Enter a choise(1/2/3/4) : 3\n",
            "Enter first number : 10\n",
            "Enter second number : 20\n",
            "Result :  200.0\n"
          ]
        }
      ]
    },
    {
      "cell_type": "code",
      "execution_count": null,
      "metadata": {
        "id": "bUOMAfFD_oGI"
      },
      "outputs": [],
      "source": [
        "# Question 2. Write a Program to Print an Integer (Entered by the User)\n",
        "# Question 3. Write a Program to Add Two Integers (Entered by the User)\n",
        "# Question 4. Write a Program to Multiply two Floating Point Numbers (Entered by the User)\n",
        "\n",
        "# Question 5. Swap two Number with 3rd variable. (user input)\n",
        "# Question 6. Swap two Number without 3rd variable. (user input)\n",
        "# Question 7. Write a Program to Check Whether a Number is Even or Odd.?\n",
        "# Question 8. Write a Program to Check Whether an Alphabet is Vowel or Consonant ?\n"
      ]
    },
    {
      "cell_type": "code",
      "source": [
        "# Question 2. Write a Program to Print an Integer (Entered by the User)\n",
        "\n",
        "a = int(input('enter your age '))\n",
        "print('Your age is:', a)"
      ],
      "metadata": {
        "colab": {
          "base_uri": "https://localhost:8080/"
        },
        "id": "Y70l1x4e_7hP",
        "outputId": "043a34d8-330b-4418-de1d-737159757b3f"
      },
      "execution_count": null,
      "outputs": [
        {
          "output_type": "stream",
          "name": "stdout",
          "text": [
            "enter your age 28\n",
            "Your age is: 28\n"
          ]
        }
      ]
    },
    {
      "cell_type": "code",
      "source": [
        "# Question 3. Write a Program to Add Two Integers (Entered by the User)\n",
        "\n",
        "a = int(input('enter a value '))\n",
        "b = int(input('enter a value '))\n",
        "print('result:',a+b)"
      ],
      "metadata": {
        "colab": {
          "base_uri": "https://localhost:8080/"
        },
        "id": "s_LwQpX1BBWD",
        "outputId": "c4e517c8-b424-42a7-c67a-2ae6d015b3b7"
      },
      "execution_count": null,
      "outputs": [
        {
          "output_type": "stream",
          "name": "stdout",
          "text": [
            "enter a value 10\n",
            "enter a value 20\n",
            "result: 30\n"
          ]
        }
      ]
    },
    {
      "cell_type": "code",
      "source": [
        "# Question 4. Write a Program to Multiply two Floating Point Numbers (Entered by the User)\n",
        "a = float(input('enter a value: ' ))\n",
        "b = float(input('enter a value: ' ))\n",
        "print('result',a*b)\n",
        "\n"
      ],
      "metadata": {
        "colab": {
          "base_uri": "https://localhost:8080/"
        },
        "id": "mlwuDTiXLG_Q",
        "outputId": "5e1552d6-4e09-4c5a-9e63-8956e26fa8c0"
      },
      "execution_count": null,
      "outputs": [
        {
          "output_type": "stream",
          "name": "stdout",
          "text": [
            "enter a value: 2.5\n",
            "enter a value: 2.5\n",
            "result 6.25\n"
          ]
        }
      ]
    },
    {
      "cell_type": "code",
      "source": [
        "# Question 1 Swap two Number with 3rd variable. (user input)\n",
        "a = int(input('enter a value '))\n",
        "b = int(input('enter a value '))\n",
        "c=a\n",
        "a=b\n",
        "print('first value',a)\n",
        "print('second value',c)"
      ],
      "metadata": {
        "colab": {
          "base_uri": "https://localhost:8080/"
        },
        "id": "O8QWMvrDMPPj",
        "outputId": "daedca4a-6dd1-401f-c89f-7d0b34b42410"
      },
      "execution_count": null,
      "outputs": [
        {
          "output_type": "stream",
          "name": "stdout",
          "text": [
            "enter a value 1\n",
            "enter a value 2\n",
            "first value 2\n",
            "second value 1\n"
          ]
        }
      ]
    },
    {
      "cell_type": "code",
      "source": [
        "1# Question 2 Swap two Number without 3rd variable. (user input)\n",
        "x = int(input('enter a value '))\n",
        "y = int(input('enter a value '))\n",
        "x,y = y,x\n",
        "print(\"value of a and b after swaping are \", x,\"and\",y)"
      ],
      "metadata": {
        "colab": {
          "base_uri": "https://localhost:8080/"
        },
        "id": "XKldGFBCUVt5",
        "outputId": "5d0f76fb-2202-4769-f9bd-317f44dd4017"
      },
      "execution_count": null,
      "outputs": [
        {
          "output_type": "stream",
          "name": "stdout",
          "text": [
            "enter a value 2\n",
            "enter a value 3\n",
            "value of a and b after swaping are  3 and 2\n"
          ]
        }
      ]
    },
    {
      "cell_type": "code",
      "source": [
        "# Question 7. Write a Program to Check Whether a Number is Even or Odd.?\n",
        "\n",
        "a = int(input('Enter a number : '))\n",
        "if a%2 != 0:\n",
        "  print('This Number is odd')\n",
        "else :\n",
        "  print('This Number is even Number')"
      ],
      "metadata": {
        "colab": {
          "base_uri": "https://localhost:8080/"
        },
        "id": "c20bxwXhOlbd",
        "outputId": "07c0210e-a295-40dd-ad57-5ae60f92bafa"
      },
      "execution_count": null,
      "outputs": [
        {
          "output_type": "stream",
          "name": "stdout",
          "text": [
            "Enter a number : 5\n",
            "This Number is odd\n"
          ]
        }
      ]
    },
    {
      "cell_type": "code",
      "source": [
        "a = int(input('Enter a number : '))\n",
        "if a%2 != 0:\n",
        "  print('odd')\n",
        "else :\n",
        "  print('even')"
      ],
      "metadata": {
        "colab": {
          "base_uri": "https://localhost:8080/"
        },
        "id": "OuXJfDgzk3U7",
        "outputId": "a6e031c0-a034-45e0-eb9f-87361e1372ee"
      },
      "execution_count": null,
      "outputs": [
        {
          "output_type": "stream",
          "name": "stdout",
          "text": [
            "Enter a number : 8\n",
            "even\n"
          ]
        }
      ]
    },
    {
      "cell_type": "code",
      "source": [
        "# Question 8. Write a Program to Check Whether an Alphabet is Vowel or Consonant ?\n",
        "\n",
        "def check_vowel_or_consonant(alphabet):\n",
        "    vowels = ['a', 'e', 'i', 'o', 'u']\n",
        "\n",
        "    if alphabet.lower() in vowels:\n",
        "        return f\"{alphabet} is a vowel.\"\n",
        "    else:\n",
        "        return f\"{alphabet} is a consonant.\"\n",
        "\n",
        "# Input alphabet from the user\n",
        "alphabet = input(\"Enter an alphabet: \")\n",
        "\n",
        "# Check if the input alphabet is a vowel or consonant\n",
        "result = check_vowel_or_consonant(alphabet)\n",
        "\n",
        "# Print the result\n",
        "print(result)"
      ],
      "metadata": {
        "id": "-Hi-ppnSbNCb",
        "colab": {
          "base_uri": "https://localhost:8080/"
        },
        "outputId": "93fb9693-0ef9-463a-aa56-d6ab5a363ff0"
      },
      "execution_count": null,
      "outputs": [
        {
          "output_type": "stream",
          "name": "stdout",
          "text": [
            "Enter an alphabet: A\n",
            "A is a vowel.\n"
          ]
        }
      ]
    },
    {
      "cell_type": "code",
      "source": [
        "\n",
        "# Write a Program to Count Number of Digits in an Integer\n",
        "\n",
        "def count_digits(n):\n",
        "    return len(str(n))\n",
        "\n",
        "# Taking input from the user\n",
        "num = int(input(\"Enter an integer: \"))\n",
        "\n",
        "# Calling the function to count digits\n",
        "num_digits = count_digits(num)\n",
        "\n",
        "print(\"Number of digits in the integer:\", num_digits)\n",
        "\n"
      ],
      "metadata": {
        "id": "inviAnxZXQAc",
        "colab": {
          "base_uri": "https://localhost:8080/"
        },
        "outputId": "f2a908bd-5272-4b3b-a95d-8536b8b367b9"
      },
      "execution_count": null,
      "outputs": [
        {
          "output_type": "stream",
          "name": "stdout",
          "text": [
            "Enter an integer: 987654321\n",
            "Number of digits in the integer: 9\n"
          ]
        }
      ]
    },
    {
      "cell_type": "code",
      "source": [
        "# Write a Program to Reverse a Number\n",
        "\n",
        "def reverse_number(num):\n",
        "    reversed_num = 0\n",
        "    while num > 0:\n",
        "        remainder = num % 10\n",
        "        reversed_num = (reversed_num * 10) + remainder\n",
        "        num = num // 10\n",
        "    return reversed_num\n",
        "\n",
        "num = int(input(\"Enter a number to reverse: \"))\n",
        "reversed_num = reverse_number(num)\n",
        "print(\"Reversed number:\", reversed_num)"
      ],
      "metadata": {
        "id": "GJqvg8FvXgm0",
        "colab": {
          "base_uri": "https://localhost:8080/"
        },
        "outputId": "f6784a22-3df0-4d5f-8bee-89dcdd3b1148"
      },
      "execution_count": null,
      "outputs": [
        {
          "output_type": "stream",
          "name": "stdout",
          "text": [
            "Enter a number to reverse: 15\n",
            "Reversed number: 51\n"
          ]
        }
      ]
    },
    {
      "cell_type": "code",
      "source": [
        "# 2. Write a Program to Generate Multiplication Table ?\n",
        "# Enter print Table Number : 7\n",
        "\n",
        "i=1\n",
        "num = int(input('Display multiplication table of '))\n",
        "for i in range(1,11):\n",
        "  print(num, 'X', i, '=', num*i)"
      ],
      "metadata": {
        "colab": {
          "base_uri": "https://localhost:8080/"
        },
        "id": "7pzGyLWL7PYS",
        "outputId": "db296c94-72bb-49eb-a4c8-a49c7ffaa7d2"
      },
      "execution_count": null,
      "outputs": [
        {
          "output_type": "stream",
          "name": "stdout",
          "text": [
            "Display multiplication table of 7\n",
            "7 X 1 = 7\n",
            "7 X 2 = 14\n",
            "7 X 3 = 21\n",
            "7 X 4 = 28\n",
            "7 X 5 = 35\n",
            "7 X 6 = 42\n",
            "7 X 7 = 49\n",
            "7 X 8 = 56\n",
            "7 X 9 = 63\n",
            "7 X 10 = 70\n"
          ]
        }
      ]
    },
    {
      "cell_type": "code",
      "source": [
        "# Assignment :\n",
        "\n",
        "def bill_with_gst(invoice_no,date,product,Quantity,taxable_amount,gst,discount):\n",
        "  taxable_amount = Quantity*taxable_amount\n",
        "  discount_amount = taxable_amount*discount/100\n",
        "  total_taxable_amount = taxable_amount-discount_amount\n",
        "  gst_amount = total_taxable_amount*gst/100\n",
        "  cgst = gst_amount/2\n",
        "  sgst = gst_amount/2\n",
        "  invoice_amount = total_taxable_amount+gst_amount\n",
        "\n",
        "  print('-------Bill-------')\n",
        "  print('')\n",
        "  print('Invoice no is : ',invoice_no)\n",
        "  print('Date :',date)\n",
        "  print('product Name :',product)\n",
        "  print('Quantaty is :',Quantity)\n",
        "  print('Taxable amount : ',taxable_amount)\n",
        "  print('Discount : ',discount,'%')\n",
        "  print('Discount amount ',discount_amount)\n",
        "  print('Total Taxable Amount : ',total_taxable_amount)\n",
        "  print('GST Rate : ',gst,'%')\n",
        "  print('GST Amount : ',gst_amount)\n",
        "  print('CGST : ',cgst)\n",
        "  print('SGST : ',sgst)\n",
        "  print('Total Invoice Amount ',invoice_amount )\n",
        "  print('')\n",
        "  print('-------Visit Again-------')\n",
        "  print('-------Thankyou-------')\n",
        "\n",
        "\n",
        "#calling function\n",
        "\n",
        "bill_with_gst(14,10_12_21,'Mobile',8,10000,18,10)\n"
      ],
      "metadata": {
        "colab": {
          "base_uri": "https://localhost:8080/"
        },
        "id": "PvK-y_FuEani",
        "outputId": "59d57e9e-3fcb-4811-de77-14d58f73b238"
      },
      "execution_count": null,
      "outputs": [
        {
          "output_type": "stream",
          "name": "stdout",
          "text": [
            "-------Bill-------\n",
            "\n",
            "Invoice no is :  14\n",
            "Date : 101221\n",
            "product Name : Mobile\n",
            "Quantaty is : 8\n",
            "Taxable amount :  80000\n",
            "Discount :  10 %\n",
            "Discount amount  8000.0\n",
            "Total Taxable Amount :  72000.0\n",
            "GST Rate :  18 %\n",
            "GST Amount :  12960.0\n",
            "CGST :  6480.0\n",
            "SGST :  6480.0\n",
            "Total Invoice Amount  84960.0\n",
            "\n",
            "-------Visit Again-------\n",
            "-------Thankyou-------\n"
          ]
        }
      ]
    },
    {
      "cell_type": "code",
      "source": [
        "# Home Loan EMI Calculator\n",
        "\n",
        "# -- Input Section\n",
        "# Loan Amount : = ₹ 74,51,512\n",
        "# Tenure (Years) :=  15\n",
        "# Interest Rate (% P.A.) = 5.19%\n",
        "\n",
        "# -- output Section\n",
        "# Monthly Home Loan EMI : ₹59,666\n",
        "# View Details\n",
        "# Principal Amount : ₹74,51,512\n",
        "# Interest Amount : ₹32,88,408\n",
        "# Total Amount Payable : ₹1,07,39,920"
      ],
      "metadata": {
        "id": "jAaZr9wZCQen"
      },
      "execution_count": null,
      "outputs": []
    },
    {
      "cell_type": "code",
      "source": [
        "loan_amount = (float(input('Enter Your Loan Amount : ' )))\n",
        "period_years = (int(input('Enter Your Tender in Years : ' )))\n",
        "interest_rate = (float(input('Enter Your Interest Rate : ' )))\n",
        "\n",
        "# Monthly intrest rate\n",
        "\n",
        "period_years = (period_years*12)\n",
        "your_monthly_emi = loan_amount/period_years*interest_rate/100\n",
        "principle_amount = time = interest_rate*12*period_years\n",
        "\n",
        "print('Monthly EMI : ',your_monthly_emi)\n",
        "print('principal amount :', loan_amount)\n",
        "print(time)\n"
      ],
      "metadata": {
        "id": "H2_dIhUobrWE",
        "colab": {
          "base_uri": "https://localhost:8080/"
        },
        "outputId": "76473977-639e-4624-d12d-0f9df7c07438"
      },
      "execution_count": null,
      "outputs": [
        {
          "output_type": "stream",
          "name": "stdout",
          "text": [
            "Enter Your Loan Amount : 7451512\n",
            "Enter Your Tender in Years : 15\n",
            "Enter Your Interest Rate : 5.19\n",
            "Monthly EMI :  2148.5192933333337\n",
            "principal amount : 11210.4\n",
            "11210.4\n"
          ]
        }
      ]
    },
    {
      "cell_type": "code",
      "source": [
        "\n",
        "# Input Section\n",
        "# loan_amount = 300000\n",
        "# tenure_years = 20\n",
        "# interest_rate = 9\n",
        "\n",
        "loan_amount = (float(input('Enter Your Loan Amount : ' )))\n",
        "tenure_years = (int(input('Enter Your Tender in Years : ' )))\n",
        "interest_rate = (float(input('Enter Your Interest Rate : ' )))\n",
        "\n",
        "\n",
        "# Calculating Monthly Home Loan EMI\n",
        "monthly_interest_rate = interest_rate / (12 * 100)\n",
        "total_months = tenure_years * 12\n",
        "emi = loan_amount * monthly_interest_rate * ((1 + monthly_interest_rate) ** total_months) / (((1 + monthly_interest_rate) ** total_months) - 1)\n",
        "\n",
        "# Calculating Principal Amount, Interest Amount, and Total Amount Payable\n",
        "total_amount_payable = emi * total_months\n",
        "interest_amount = total_amount_payable - loan_amount\n",
        "\n",
        "# Output Section\n",
        "print(\"Monthly Home Loan EMI: ₹{:.0f}\".format(emi))\n",
        "print(\"View Details:\")\n",
        "print(\"Principal Amount: ₹{:.0f}\".format(loan_amount))\n",
        "print(\"Interest Amount: ₹{:.0f}\".format(interest_amount))\n",
        "print(\"Total Amount Payable: ₹{:.0f}\".format(total_amount_payable))"
      ],
      "metadata": {
        "id": "CfVXTMQ7-5mA",
        "colab": {
          "base_uri": "https://localhost:8080/"
        },
        "outputId": "02b1bec7-c6fc-4707-b59b-337bc61489a8"
      },
      "execution_count": null,
      "outputs": [
        {
          "output_type": "stream",
          "name": "stdout",
          "text": [
            "Enter Your Loan Amount : 7451512\n",
            "Enter Your Tender in Years : 15\n",
            "Enter Your Interest Rate : 5.19\n",
            "Monthly Home Loan EMI: ₹59666\n",
            "View Details:\n",
            "Principal Amount: ₹7451512\n",
            "Interest Amount: ₹3288408\n",
            "Total Amount Payable: ₹10739920\n"
          ]
        }
      ]
    },
    {
      "cell_type": "code",
      "source": [
        "# Assignment :\n",
        "\n",
        "def bill_with_gst(invoice_no,date,product,Quantity,taxable_amount,gst,discount):\n",
        "  taxable_amount = Quantity*taxable_amount\n",
        "  discount_amount = taxable_amount*discount/100\n",
        "  total_taxable_amount = taxable_amount-discount_amount\n",
        "  gst_amount = total_taxable_amount*gst/100\n",
        "  cgst = gst_amount/2\n",
        "  sgst = gst_amount/2\n",
        "  invoice_amount = total_taxable_amount+gst_amount\n",
        "\n",
        "  print('-------Bill-------')\n",
        "  print('')\n",
        "  print('Invoice no is : ',invoice_no)\n",
        "  print('Date :',date)\n",
        "  print('product Name :',product)\n",
        "  print('Quantaty is :',Quantity)\n",
        "  print('Taxable amount : ',taxable_amount)\n",
        "  print('Discount : ',discount,'%')\n",
        "  print('Discount amount ',discount_amount)\n",
        "  print('Total Taxable Amount : ',total_taxable_amount)\n",
        "  print('GST Rate : ',gst,'%')\n",
        "  print('GST Amount : ',gst_amount)\n",
        "  print('CGST : ',cgst)\n",
        "  print('SGST : ',sgst)\n",
        "  print('Total Invoice Amount ',invoice_amount )\n",
        "  print('')\n",
        "  print('-------Visit Again-------')\n",
        "  print('-------Thankyou-------')\n",
        "\n",
        "\n",
        "#calling function\n",
        "\n",
        "bill_with_gst(14,10_12_21,'Mobile',8,10000,18,10)\n"
      ],
      "metadata": {
        "id": "v_YFJZeaWapp",
        "colab": {
          "base_uri": "https://localhost:8080/"
        },
        "outputId": "21a8d5fd-6c1a-447a-a507-d38e04b8e13c"
      },
      "execution_count": null,
      "outputs": [
        {
          "output_type": "stream",
          "name": "stdout",
          "text": [
            "-------Bill-------\n",
            "\n",
            "Invoice no is :  14\n",
            "Date : 101221\n",
            "product Name : Mobile\n",
            "Quantaty is : 8\n",
            "Taxable amount :  80000\n",
            "Discount :  10 %\n",
            "Discount amount  8000.0\n",
            "Total Taxable Amount :  72000.0\n",
            "GST Rate :  18 %\n",
            "GST Amount :  12960.0\n",
            "CGST :  6480.0\n",
            "SGST :  6480.0\n",
            "Total Invoice Amount  84960.0\n",
            "\n",
            "-------Visit Again-------\n",
            "-------Thankyou-------\n"
          ]
        }
      ]
    },
    {
      "cell_type": "code",
      "source": [
        "lower = 100\n",
        "upper = 120\n",
        "\n",
        "print(\"Prime numbers between\", lower,\"and\", upper,\"are\")\n",
        "\n",
        "for num in range(lower,upper+1):\n",
        "  if num>1:\n",
        "    for i in range(2, num):\n",
        "      if(num%i)==0:\n",
        "        break\n",
        "    else:\n",
        "        print(num)"
      ],
      "metadata": {
        "id": "PkIiaVyhWhPo",
        "colab": {
          "base_uri": "https://localhost:8080/"
        },
        "outputId": "99256faf-3fb6-4889-b173-927bd1dc3052"
      },
      "execution_count": null,
      "outputs": [
        {
          "output_type": "stream",
          "name": "stdout",
          "text": [
            "Prime numbers between 100 and 120 are\n",
            "101\n",
            "103\n",
            "107\n",
            "109\n",
            "113\n"
          ]
        }
      ]
    },
    {
      "cell_type": "code",
      "source": [
        "#From a list of numbers, move zero to the end of the list.\n",
        "\n",
        "list = [1,0,2,0,4,6]\n",
        "for item in list:\n",
        "  if item in list :\n",
        "    list.remove(0)\n",
        "    list.append(0)\n",
        "print(list)"
      ],
      "metadata": {
        "colab": {
          "base_uri": "https://localhost:8080/"
        },
        "id": "RHc2PKze4inA",
        "outputId": "8eaa0d6b-028c-40c7-994e-667afbfe4d78"
      },
      "execution_count": null,
      "outputs": [
        {
          "output_type": "stream",
          "name": "stdout",
          "text": [
            "[1, 2, 4, 6, 0, 0]\n"
          ]
        }
      ]
    },
    {
      "cell_type": "code",
      "source": [
        "# From a list of numbers, move zero to the end of the list\n",
        "\n",
        "list = [1,0,2,0,1,4,6,0,]\n",
        "for item in list:\n",
        "  if item in list:\n",
        "    list.remove(0)\n",
        "    list.append(0)\n",
        "print(list)"
      ],
      "metadata": {
        "colab": {
          "base_uri": "https://localhost:8080/"
        },
        "id": "RLQH3gEUSbTM",
        "outputId": "193629d9-4089-414b-cb6a-e3bb69a808c2"
      },
      "execution_count": null,
      "outputs": [
        {
          "output_type": "stream",
          "name": "stdout",
          "text": [
            "[1, 2, 1, 4, 6, 0, 0, 0]\n"
          ]
        }
      ]
    },
    {
      "cell_type": "code",
      "source": [
        "a = {'a':1,'b':2,'c':3}\n",
        "print(a)"
      ],
      "metadata": {
        "colab": {
          "base_uri": "https://localhost:8080/"
        },
        "id": "6-aD3lTpTCdD",
        "outputId": "b781dd0e-1b26-4062-bb7b-14d212bd8c9b"
      },
      "execution_count": null,
      "outputs": [
        {
          "output_type": "stream",
          "name": "stdout",
          "text": [
            "{'a': 1, 'b': 2, 'c': 3}\n"
          ]
        }
      ]
    },
    {
      "cell_type": "code",
      "source": [
        "def twosum(arr,num):\n",
        "  arr.sort()\n",
        "  left = 0\n",
        "  right = len(arr)-1\n",
        "  while (left < right):\n",
        "    if arr[left]+arr[right]==num:\n",
        "      return [left,right]\n",
        "    elif arr[left]+arr[right]<num:\n",
        "      left+=1\n",
        "\n",
        "arr=[5,7,4,3,9,8,19,21]\n",
        "sum=17\n",
        "twosum(arr,sum)"
      ],
      "metadata": {
        "id": "r0UvJZ4MXdAO",
        "colab": {
          "base_uri": "https://localhost:8080/",
          "height": 297
        },
        "outputId": "ea3f9b95-a795-4289-e144-550c6530aa6f"
      },
      "execution_count": null,
      "outputs": [
        {
          "output_type": "error",
          "ename": "KeyboardInterrupt",
          "evalue": "",
          "traceback": [
            "\u001b[0;31m---------------------------------------------------------------------------\u001b[0m",
            "\u001b[0;31mKeyboardInterrupt\u001b[0m                         Traceback (most recent call last)",
            "\u001b[0;32m<ipython-input-1-94daa84ea8e4>\u001b[0m in \u001b[0;36m<cell line: 0>\u001b[0;34m()\u001b[0m\n\u001b[1;32m     11\u001b[0m \u001b[0marr\u001b[0m\u001b[0;34m=\u001b[0m\u001b[0;34m[\u001b[0m\u001b[0;36m5\u001b[0m\u001b[0;34m,\u001b[0m\u001b[0;36m7\u001b[0m\u001b[0;34m,\u001b[0m\u001b[0;36m4\u001b[0m\u001b[0;34m,\u001b[0m\u001b[0;36m3\u001b[0m\u001b[0;34m,\u001b[0m\u001b[0;36m9\u001b[0m\u001b[0;34m,\u001b[0m\u001b[0;36m8\u001b[0m\u001b[0;34m,\u001b[0m\u001b[0;36m19\u001b[0m\u001b[0;34m,\u001b[0m\u001b[0;36m21\u001b[0m\u001b[0;34m]\u001b[0m\u001b[0;34m\u001b[0m\u001b[0;34m\u001b[0m\u001b[0m\n\u001b[1;32m     12\u001b[0m \u001b[0msum\u001b[0m\u001b[0;34m=\u001b[0m\u001b[0;36m17\u001b[0m\u001b[0;34m\u001b[0m\u001b[0;34m\u001b[0m\u001b[0m\n\u001b[0;32m---> 13\u001b[0;31m \u001b[0mtwosum\u001b[0m\u001b[0;34m(\u001b[0m\u001b[0marr\u001b[0m\u001b[0;34m,\u001b[0m\u001b[0msum\u001b[0m\u001b[0;34m)\u001b[0m\u001b[0;34m\u001b[0m\u001b[0;34m\u001b[0m\u001b[0m\n\u001b[0m",
            "\u001b[0;32m<ipython-input-1-94daa84ea8e4>\u001b[0m in \u001b[0;36mtwosum\u001b[0;34m(arr, num)\u001b[0m\n\u001b[1;32m      3\u001b[0m   \u001b[0mleft\u001b[0m \u001b[0;34m=\u001b[0m \u001b[0;36m0\u001b[0m\u001b[0;34m\u001b[0m\u001b[0;34m\u001b[0m\u001b[0m\n\u001b[1;32m      4\u001b[0m   \u001b[0mright\u001b[0m \u001b[0;34m=\u001b[0m \u001b[0mlen\u001b[0m\u001b[0;34m(\u001b[0m\u001b[0marr\u001b[0m\u001b[0;34m)\u001b[0m\u001b[0;34m-\u001b[0m\u001b[0;36m1\u001b[0m\u001b[0;34m\u001b[0m\u001b[0;34m\u001b[0m\u001b[0m\n\u001b[0;32m----> 5\u001b[0;31m   \u001b[0;32mwhile\u001b[0m \u001b[0;34m(\u001b[0m\u001b[0mleft\u001b[0m \u001b[0;34m<\u001b[0m \u001b[0mright\u001b[0m\u001b[0;34m)\u001b[0m\u001b[0;34m:\u001b[0m\u001b[0;34m\u001b[0m\u001b[0;34m\u001b[0m\u001b[0m\n\u001b[0m\u001b[1;32m      6\u001b[0m     \u001b[0;32mif\u001b[0m \u001b[0marr\u001b[0m\u001b[0;34m[\u001b[0m\u001b[0mleft\u001b[0m\u001b[0;34m]\u001b[0m\u001b[0;34m+\u001b[0m\u001b[0marr\u001b[0m\u001b[0;34m[\u001b[0m\u001b[0mright\u001b[0m\u001b[0;34m]\u001b[0m\u001b[0;34m==\u001b[0m\u001b[0mnum\u001b[0m\u001b[0;34m:\u001b[0m\u001b[0;34m\u001b[0m\u001b[0;34m\u001b[0m\u001b[0m\n\u001b[1;32m      7\u001b[0m       \u001b[0;32mreturn\u001b[0m \u001b[0;34m[\u001b[0m\u001b[0mleft\u001b[0m\u001b[0;34m,\u001b[0m\u001b[0mright\u001b[0m\u001b[0;34m]\u001b[0m\u001b[0;34m\u001b[0m\u001b[0;34m\u001b[0m\u001b[0m\n",
            "\u001b[0;31mKeyboardInterrupt\u001b[0m: "
          ]
        }
      ]
    },
    {
      "cell_type": "code",
      "source": [
        "from googlesearch import search\n",
        "query = input(\"ask anything: \")\n",
        "\n",
        "for url in search (query):\n",
        "    print(url)"
      ],
      "metadata": {
        "colab": {
          "base_uri": "https://localhost:8080/"
        },
        "id": "LFO8RaXpP4Wq",
        "outputId": "6f8a13c1-612e-4843-a657-5dcbeb9bb40c"
      },
      "execution_count": null,
      "outputs": [
        {
          "output_type": "stream",
          "name": "stdout",
          "text": [
            "ask anything: Python loop function\n",
            "https://www.w3schools.com/python/python_for_loops.asp\n",
            "https://www.programiz.com/python-programming/for-loop\n",
            "https://www.geeksforgeeks.org/loops-in-python/\n",
            "https://wiki.python.org/moin/ForLoop\n",
            "https://www.digitalocean.com/community/tutorials/python-for-loop-example\n",
            "https://www.geeksforgeeks.org/python-for-loops/\n",
            "https://docs.python.org/3/tutorial/controlflow.html\n",
            "https://www.tomasbeuzen.com/python-programming-for-data-science/chapters/chapter2-loops-functions.html\n",
            "https://www.coursera.org/tutorials/for-loop-python\n",
            "https://www.ibm.com/reference/python/for-loop\n",
            "https://www.youtube.com/watch?v=KWgYha0clzw\n",
            "https://www.w3schools.com/python/python_while_loops.asp\n",
            "https://realpython.com/python-for-loop/\n",
            "https://www.learnpython.org/en/Loops\n",
            "https://www.w3schools.com/python/python_lists_loop.asp\n",
            "https://www.simplilearn.com/tutorials/python-tutorial/python-for-loop\n",
            "https://discovery.cs.illinois.edu/learn/Simulation-and-Distributions/For-Loops-in-Python/\n",
            "https://stackoverflow.com/questions/23439326/python-using-a-for-loop-inside-a-function\n",
            "https://www.shiksha.com/online-courses/articles/for-loop-in-python-examples/\n",
            "https://www.simplilearn.com/tutorials/python-tutorial/python-loops\n",
            "https://www.wscubetech.com/resources/python/loops\n",
            "https://pythonnumericalmethods.studentorg.berkeley.edu/notebooks/chapter05.01-For-Loops.html\n",
            "https://www.freecodecamp.org/news/python-looping-functions/\n",
            "https://www.youtube.com/watch?v=dHANJ4l6fwA&pp=ygUJI2V4ZWRpY3Rz\n",
            "https://discuss.python.org/t/for-loops-with-any-statements/24664\n",
            "https://stackoverflow.com/questions/3431676/creating-functions-or-lambdas-in-a-loop-or-comprehension\n",
            "https://en.wikipedia.org/wiki/For_loop\n",
            "https://developer.mozilla.org/en-US/docs/Web/JavaScript/Guide/Loops_and_iteration\n",
            "https://www.dataquest.io/blog/python-for-loop-tutorial/\n",
            "https://365datascience.com/tutorials/python-tutorials/loops-python/\n",
            "https://www.freecodecamp.org/news/for-loops-in-python-with-example-code/\n",
            "https://www.reddit.com/r/learnpython/comments/1hhr7xc/confused_about_for_loops_in_python_please_help_me/\n",
            "https://study.com/academy/lesson/for-loops-in-python-definition-examples.html\n",
            "https://brainstation.io/learn/python/for-loops\n",
            "https://www.datacamp.com/tutorial/python-for-i-in-range\n",
            "https://www.codecademy.com/resources/docs/python/loops\n",
            "https://www.youtube.com/watch?v=23vCap6iYSs\n",
            "https://www.programiz.com/python-programming/while-loop\n",
            "https://pynative.com/python-if-else-and-for-loop-exercise-with-solutions/\n",
            "https://blog.teamtreehouse.com/python-single-line-loops\n",
            "https://www.dataquest.io/blog/tutorial-advanced-for-loops-python-pandas/\n",
            "https://www.coursera.org/tutorials/python-while-loop\n",
            "https://www.w3schools.com/js/js_loop_for.asp\n",
            "https://openclassrooms.com/en/courses/6902811-learn-python-basics/7090826-easily-repeat-tasks-using-loops\n",
            "https://www.digitalocean.com/community/tutorials/how-to-use-break-continue-and-pass-statements-when-working-with-loops-in-python-3\n",
            "https://www.youtube.com/watch?v=BmpsWs-kNTM\n",
            "https://teamtreehouse.com/community/how-do-i-do-a-loop-inside-a-function\n",
            "https://realpython.com/python-enumerate/\n",
            "https://ioflood.com/blog/python-loop/\n",
            "https://www.datacamp.com/tutorial/loops-python-tutorial\n",
            "https://www.youtube.com/watch?v=ZPSES_gtm5U\n",
            "https://docs.python.org/3/reference/compound_stmts.html\n",
            "https://www.youtube.com/watch?v=yaqMSBr_NCU\n",
            "https://www.askpython.com/python/built-in-methods/for-loop-two-variables\n",
            "https://www.w3schools.com/python/gloss_python_for_range.asp\n",
            "https://m.youtube.com/watch?v=zmIdC0_0BgY&pp=ygUQI2xvb3BpbmdpbnB5dGhvbg%3D%3D\n",
            "https://docs.python.org/3/library/asyncio-eventloop.html\n",
            "https://jinja.palletsprojects.com/en/stable/templates/\n",
            "https://blog.simplivlearning.com/python-loops-and-functions-complete-guide-with-examples/\n",
            "https://docs.python.org/3/library/itertools.html\n",
            "https://www.w3schools.com/python/python_tuples_loop.asp\n",
            "https://www.youtube.com/watch?v=gWU_4ec-Wlw\n",
            "https://pythontutor.com/visualize.html\n",
            "https://pynative.com/print-pattern-python-examples/\n",
            "https://langchain-ai.github.io/langgraph/concepts/human_in_the_loop/\n",
            "https://www.youtube.com/watch?v=CiCuqurVuPM\n",
            "https://www.w3schools.com/python/ref_keyword_continue.asp\n",
            "https://developer.mozilla.org/en-US/docs/Web/JavaScript/Reference/Execution_model\n",
            "https://go.dev/doc/effective_go\n",
            "https://pypi.org/project/paho-mqtt/\n",
            "https://nodejs.org/en/learn/asynchronous-work/event-loop-timers-and-nexttick\n",
            "https://www.youtube.com/watch?v=94UHCEmprCY&pp=0gcJCfcAhR29_xXO\n",
            "https://docs.python.org/3/glossary.html\n",
            "https://docs.djangoproject.com/en/5.1/ref/templates/builtins/\n",
            "https://www.mathworks.com/matlabcentral/answers/31156-how-do-i-create-a-for-loop-in-matlab\n",
            "https://pravin-hub-rgb.github.io/BCA/resources/sem6/fml/unit2/index.html\n",
            "https://docs.ultralytics.com/modes/track/\n",
            "https://www.youtube.com/watch?v=rRTjPnVooxE\n",
            "https://docs.python.org/3/tutorial/introduction.html\n",
            "https://code.visualstudio.com/docs/editing/intellisense\n",
            "https://www.youtube.com/watch?v=APWy6Pc83gE\n",
            "https://www.w3schools.com/c/c_for_loop.php\n",
            "https://docs.python.org/3/reference/simple_stmts.html\n",
            "https://www.youtube.com/watch?v=ECduJk00mUU\n",
            "https://www.w3schools.com/r/r_for_loop.asp\n",
            "https://www.youtube.com/watch?v=vSHUjaxBf14\n",
            "https://www.youtube.com/watch?v=yVJkE1TQGKQ\n",
            "https://docs.python.org/3/library/asyncio-task.html\n",
            "https://www.w3schools.com/js/js_loop_while.asp\n",
            "https://www.youtube.com/watch?v=WPF5M_Ic6Fc\n",
            "https://docs.python.org/3/tutorial/datastructures.html\n",
            "https://www.youtube.com/watch?v=RvvXo2-9bnE\n",
            "https://www.w3schools.com/c/c_while_loop.php\n",
            "https://docs.python.org/3/reference/expressions.html\n",
            "https://www.youtube.com/watch?v=4UuMrebbwIo\n",
            "https://www.youtube.com/watch?v=xGWVmZMb2kE\n",
            "https://www.w3schools.com/php/php_looping_for.asp\n",
            "https://docs.python.org/3/library/pdb.html\n",
            "https://www.youtube.com/watch?v=iNHn6dl-_78\n",
            "https://www.w3schools.com/python/gloss_python_for_nested.asp\n",
            "https://www.youtube.com/watch?v=kwVKladuLaE\n",
            "https://docs.python.org/3/library/turtle.html\n",
            "https://www.youtube.com/watch?v=XGavZZjmtRY\n",
            "https://www.w3schools.com/cpp/cpp_for_loop.asp\n",
            "https://docs.python.org/3/library/asyncio.html\n",
            "https://www.w3schools.com/java/java_for_loop.asp\n",
            "https://www.youtube.com/watch?v=4CLOwlSdnYc\n",
            "https://docs.python.org/3/library/copy.html\n",
            "https://www.w3schools.com/js/js_loop_forof.asp\n",
            "https://docs.python.org/3/library/enum.html\n",
            "https://www.w3schools.com/php/php_looping.asp\n",
            "https://docs.python.org/3/library/xml.etree.elementtree.html\n",
            "https://www.youtube.com/watch?v=g6ztLFFUutg\n",
            "https://www.youtube.com/watch?v=L6iW_60-L08\n",
            "https://www.w3schools.com/cs/cs_for_loop.php\n",
            "https://www.w3schools.com/r/r_while_loop.asp\n",
            "https://www.youtube.com/watch?v=ZHdai11Xga0\n",
            "https://www.w3schools.com/cpp/cpp_while_loop.asp\n",
            "https://www.youtube.com/watch?v=DHnDBlMVs-4\n",
            "https://www.w3schools.com/php/php_looping_while.asp\n",
            "https://www.youtube.com/watch?v=cV4bFsfgfdA\n",
            "https://www.youtube.com/watch?v=3DfRdwdTZAk\n",
            "https://www.w3schools.com/js/js_loop_forin.asp\n",
            "https://www.youtube.com/watch?v=6iF8Xb7Z3wQ\n",
            "https://www.youtube.com/watch?v=at8J_dayo8w\n",
            "https://www.w3schools.com/java/java_while_loop.asp\n",
            "https://www.youtube.com/watch?v=dQ8itYHtiVo\n",
            "https://www.youtube.com/watch?v=r3V7qSv30DI\n",
            "https://www.w3schools.com/cpp/cpp_do_while_loop.asp\n",
            "https://www.youtube.com/watch?v=rdbTkGII6Ug\n",
            "https://www.w3schools.com/php/php_looping_foreach.asp\n",
            "https://www.youtube.com/watch?v=WYLjcXpxFOQ\n",
            "https://www.youtube.com/watch?v=wORb7NunY-o\n",
            "https://www.w3schools.com/c/c_do_while_loop.php\n",
            "https://www.youtube.com/watch?v=N3nCEQyr104\n",
            "https://www.youtube.com/watch?v=kwrnlBP7B2o\n",
            "https://www.youtube.com/watch?v=9LgyKiq_hU0&pp=0gcJCfcAhR29_xXO\n",
            "https://www.youtube.com/watch?v=cduZ6DdNDyo\n",
            "https://www.youtube.com/watch?v=G2sWzLJx2u8\n",
            "https://www.w3schools.com/cpp/cpp_arrays_loop.asp\n",
            "https://www.youtube.com/watch?v=bTQRRs1RlTc\n",
            "https://www.youtube.com/watch?v=vIeHiAL7v7I\n",
            "https://www.w3schools.com/js/js_array_iteration.asp\n",
            "https://www.youtube.com/watch?v=r-wYyDRqgGA\n",
            "https://www.youtube.com/watch?v=ZSOXMHF1oJ8\n",
            "https://www.youtube.com/watch?v=9u-vMAjxdr4\n",
            "https://www.youtube.com/watch?v=rcxuaBJ0zq0\n",
            "https://www.youtube.com/watch?v=YP0ipClntYc\n",
            "https://www.youtube.com/watch?v=fsFKs1lznCc\n",
            "https://www.youtube.com/watch?v=YPBHBKW6Z-A\n",
            "https://www.youtube.com/watch?v=uY5xMFqefvk\n",
            "https://m.youtube.com/watch?v=3ykIpmAxdoY&t=0s\n",
            "https://www.youtube.com/watch?v=EqV1cto2Xug\n",
            "https://www.youtube.com/watch?v=VZFSXs9uBAA\n",
            "https://www.youtube.com/watch?v=p02osONe1gE\n",
            "https://www.youtube.com/watch?v=JX5_hyy57tM\n",
            "https://www.youtube.com/watch?v=Uz2F5yYfU6s\n",
            "https://www.youtube.com/watch?v=hI86dFFkPIk\n",
            "https://www.youtube.com/watch?v=IoxLRhm5LMg\n",
            "https://www.youtube.com/watch?v=kCY94fAfgjE\n",
            "https://www.youtube.com/watch?v=sGq6YDCY2HY\n",
            "https://www.youtube.com/watch?v=xo65l_YbMZA\n",
            "https://www.youtube.com/watch?v=a90FqWdX_fQ\n",
            "https://www.youtube.com/watch?v=0uJbooxtdEo\n",
            "https://www.youtube.com/watch?v=n21xG-fDSEg\n",
            "https://www.youtube.com/watch?v=nrxA8Pkb90Y\n",
            "https://www.youtube.com/watch?v=J458uJQQWCw\n",
            "https://www.youtube.com/watch?v=xBwLhd71EHA\n",
            "https://www.youtube.com/watch?v=4VsbTrgkJ30\n",
            "https://www.youtube.com/watch?v=rodU4gMzdLI\n",
            "https://www.youtube.com/watch?v=F-ZlGI6JRKg\n",
            "https://www.youtube.com/watch?v=PkZNo7MFNFg\n",
            "https://www.youtube.com/watch?v=17jqEhUazhg\n",
            "https://www.youtube.com/watch?v=8aGhZQkoFbQ\n",
            "https://www.youtube.com/watch?v=ytzxpUOYQso\n",
            "https://www.youtube.com/watch?v=vKeoXxVaga4\n",
            "https://www.youtube.com/watch?v=ADdbHfmlYjk\n"
          ]
        }
      ]
    },
    {
      "cell_type": "code",
      "source": [
        "from datetime import datetime\n",
        "import time\n",
        "\n",
        "new_year = datetime(datetime.now().year\n",
        "                    +1,1,1)\n",
        "\n",
        "while datetime.now() < new_year:\n",
        "  remaining = new_year = datetime.now()\n",
        "  print(f\"\\rTime left: {remaining}\",end=\"\")\n",
        "  time.sleep(1)\n",
        "print(\"\\n Happy New Year! \")"
      ],
      "metadata": {
        "colab": {
          "base_uri": "https://localhost:8080/"
        },
        "id": "-UVSoCY7KKFl",
        "outputId": "13298dc8-3b0f-4b8f-97c0-36a34125548f"
      },
      "execution_count": null,
      "outputs": [
        {
          "output_type": "stream",
          "name": "stdout",
          "text": [
            "\rTime left: 2025-03-26 11:38:16.097159\n",
            " Happy New Year! \n"
          ]
        }
      ]
    },
    {
      "cell_type": "code",
      "source": [
        "# Password Generator Using Random\n",
        "import random\n",
        "charts = \"ABCDEFGHIJKLMNOPQRSTUVWXYZ0123456789abcdefghijklmnopqrstuvwxyz!@#$%^&*()\"\n",
        "length = int(input(\"Enter Lrngth: \"))\n",
        "password = \"\"\n",
        "for a in range(length):\n",
        "  password += random.choice(charts)\n",
        "print (password)"
      ],
      "metadata": {
        "colab": {
          "base_uri": "https://localhost:8080/"
        },
        "id": "tWNiqvAKTZ4m",
        "outputId": "9fe542a7-540d-4698-92a8-3b1a8f6cd8a1"
      },
      "execution_count": 7,
      "outputs": [
        {
          "output_type": "stream",
          "name": "stdout",
          "text": [
            "Enter Lrngth: 10\n",
            "V^6^ygPD$&\n"
          ]
        }
      ]
    },
    {
      "cell_type": "code",
      "source": [
        "# Remove Background..... Before .add your image name\n",
        "\n",
        "!pip install rembg\n",
        "from rembg import remove\n",
        "from PIL import Image\n",
        "\n",
        "input_path = \"IMG_20250327_174659.jpeg\"\n",
        "output_path = \"IMG_20250327_174659.png\"\n",
        "\n",
        "inp = Image.open(input_path)\n",
        "output = remove(inp)\n",
        "\n",
        "output.save(output_path)\n",
        "Image.open(\"IMG_20250327_174659.png\")"
      ],
      "metadata": {
        "id": "ThR5KWd_e1hR"
      },
      "execution_count": null,
      "outputs": []
    }
  ]
}